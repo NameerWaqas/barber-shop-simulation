{
  "nbformat": 4,
  "nbformat_minor": 0,
  "metadata": {
    "colab": {
      "name": "Queueing1.7",
      "provenance": [],
      "collapsed_sections": [
        "jA0DpyhiETnQ"
      ]
    },
    "kernelspec": {
      "name": "python3",
      "display_name": "Python 3"
    }
  },
  "cells": [
    {
      "cell_type": "markdown",
      "metadata": {
        "id": "S_o_tBVbDsoY"
      },
      "source": [
        "# Single Server Quying System\n",
        "## Problem 1.7"
      ]
    },
    {
      "cell_type": "markdown",
      "metadata": {
        "id": "jA0DpyhiETnQ"
      },
      "source": [
        "### Overall Project Architecture\n",
        "\n",
        "> ### Coding Paradigm\n",
        ">- [ ] OOP\n",
        "- [x] Functional\n",
        "- [ ] Scripting\n",
        "\n",
        "> ### Unit of time\n",
        ">- [X] Minutes\n",
        "\n",
        "> ### State of the server will be validated using boolean values\n",
        "\n",
        "> ### Randomness will be achieved using psedou random generator first and will be proceeded by adding the last generated randomnunmber to the curently generated number.\n",
        "\n",
        "> ### Values to be noted\n",
        ">- [x] Arrival Time = $t_{i}$ \n",
        "- [x] Inter arrival time = $A_{i}$ = $t_{i} - t_{i-1}$\n",
        "- [x] Waiting in queue = $W_{i}$ = \n",
        "- [x] Service time = $S_{i}$ = \n",
        "- [x] Completion(Departure) Time =  $D_{i}$ = \n",
        "\n",
        "### For the main code and 1.7 we'll not terminate the simulation until queue overflows or all customers has been served."
      ]
    },
    {
      "cell_type": "markdown",
      "metadata": {
        "id": "6Zz6jkEANbn-"
      },
      "source": [
        "### All Imports"
      ]
    },
    {
      "cell_type": "code",
      "metadata": {
        "id": "bt9WHRo2EDHA"
      },
      "source": [
        "import random\n",
        "from time import sleep"
      ],
      "execution_count": 28,
      "outputs": []
    },
    {
      "cell_type": "markdown",
      "metadata": {
        "id": "s6xWTZp3WjCH"
      },
      "source": [
        "### Generating Arrival and Service Time, $t_{i}$ , $S_{i}$ "
      ]
    },
    {
      "cell_type": "code",
      "metadata": {
        "id": "7jFaKpfDNeF8"
      },
      "source": [
        "def generateArrivalAndServiceTime():\n",
        "    global arrivalTime,serviceTime\n",
        "    for i in range(0,10):\n",
        "        if i : \n",
        "            arrivalTimeTemp = random.randint(1,5) + arrivalTime[i-1]\n",
        "        else: \n",
        "            arrivalTimeTemp = random.randint(1,5)\n",
        "        serviceTimeTemp = random.randint(6,10)\n",
        "        # print(\"Arrival time: \"+ str(arrivalTime) + \" Service time: \"+ str(serviceTime))\n",
        "        arrivalTime.append(arrivalTimeTemp)\n",
        "        serviceTime.append(serviceTimeTemp)"
      ],
      "execution_count": 29,
      "outputs": []
    },
    {
      "cell_type": "markdown",
      "metadata": {
        "id": "tjPDldaIPfdL"
      },
      "source": [
        "### Calculating Inter Arrival Time $A_{i}$"
      ]
    },
    {
      "cell_type": "code",
      "metadata": {
        "id": "QG27oLilN-dW"
      },
      "source": [
        "def calculateInterArrivalTime():\n",
        "    global arrivalTime\n",
        "    for i in range(len(arrivalTime)):\n",
        "        if i:\n",
        "            temp = arrivalTime[i] - arrivalTime[i-1] \n",
        "        else:\n",
        "            temp = arrivalTime[i]\n",
        "        # print(\"Inter Arrival time for \" +str(i+1) +\" event: \" + str(temp))"
      ],
      "execution_count": 30,
      "outputs": []
    },
    {
      "cell_type": "markdown",
      "metadata": {
        "id": "70jTUqqlia9t"
      },
      "source": [
        "### Calculating Waiting Time"
      ]
    },
    {
      "cell_type": "code",
      "metadata": {
        "id": "qm57vgkmioig"
      },
      "source": [
        "def calculateWaitingTime(i):\n",
        "    # global queue\n",
        "    global waitingTime,serverIsBusy,completionTime,arrivalTime\n",
        "\n",
        "    if serverIsBusy:\n",
        "        waitingTime.append(completionTime[i-1]-arrivalTime[i])\n",
        "        \n",
        "    else:\n",
        "        waitingTime.append(0)\n",
        "        serverIsBusy=True"
      ],
      "execution_count": 31,
      "outputs": []
    },
    {
      "cell_type": "markdown",
      "metadata": {
        "id": "4adUpjtOiffa"
      },
      "source": [
        "### Calculating Completion Time"
      ]
    },
    {
      "cell_type": "code",
      "metadata": {
        "id": "NPLRd-NHiuid"
      },
      "source": [
        "def calculateCompletionTime(i):\n",
        "    global completionTime,waitingTime,arrivalTime\n",
        "\n",
        "    completionTime.append(arrivalTime[i]+serviceTime[i]+waitingTime[i])\n",
        "    # printEventDetails(i)\n",
        "    # print(str(completionTime[i])+\" , completion time\\n\")"
      ],
      "execution_count": 32,
      "outputs": []
    },
    {
      "cell_type": "markdown",
      "metadata": {
        "id": "tv-PtAVB3u0H"
      },
      "source": [
        "## Print Details"
      ]
    },
    {
      "cell_type": "code",
      "metadata": {
        "id": "MN3oD6zx34Ya"
      },
      "source": [
        "def printEventDetails(i):\n",
        "    global arrivalTime,serviceTime,waitingTime,completionTime\n",
        "    print(\"\\nArrival Time:\" + str(arrivalTime[i]) +\"\\n Service Time: \" + str(serviceTime[i]) +\"\\n Waiting Time:\" +str(waitingTime[i])+\"\\nCompletion time: \" +str(completionTime[i]))\n"
      ],
      "execution_count": 33,
      "outputs": []
    },
    {
      "cell_type": "markdown",
      "metadata": {
        "id": "i7C7RNDs1gsE"
      },
      "source": [
        "## Calculations"
      ]
    },
    {
      "cell_type": "code",
      "metadata": {
        "id": "fZ2iDsAH1vga"
      },
      "source": [
        "def Calculations():\n",
        "    global serverIsBusy,arrivalTime,serviceTime,waitingTime,completionTime\n",
        "    generateArrivalAndServiceTime()\n",
        "    \n",
        "    calculateInterArrivalTime()\n",
        "    for i in range(len(arrivalTime)):\n",
        "        calculateWaitingTime(i)\n",
        "        calculateCompletionTime(i)\n",
        "    serverIsBusy=False  "
      ],
      "execution_count": 34,
      "outputs": []
    },
    {
      "cell_type": "markdown",
      "metadata": {
        "id": "qH-_wf0U9JGP"
      },
      "source": [
        "# Simulation"
      ]
    },
    {
      "cell_type": "code",
      "metadata": {
        "id": "6WpisICL9OtD"
      },
      "source": [
        "def simulateSingleServerQueuingSystem():\n",
        "\n",
        "    global completionTime,arrivalTime,clock,queue,event,serverIsBusy,custInQueue,timeAvgNumInSys,avgTtlTimeInSys\n",
        "    currentArrival=0\n",
        "    inServer = 1\n",
        "    print(\"Clock \\t Event \\t Status \\t i \\t ti \\t Ci \\tQPopulation \\t\\t State\")\n",
        "    print(str(0)+\" \\t \"+str(0)+\" \\t \"+\"Start\"+\" \\t\\t \"+\"--\"+\" \\t \"+\"--\"+\"\\t\"+\"--\"+\" \\t \"+str(0)+\" \\t\\t\\t \"+\"Idle\")\n",
        "\n",
        "    # while clock is not 60 and queue <= 10: part of original code\n",
        "    while queue <= 10:\n",
        "\n",
        "        sleep(0.1) # Change the value later on\n",
        "\n",
        "\n",
        "        if clock in arrivalTime:\n",
        "            custInQueue+=queue # calculating summation of customers in queue.\n",
        "            event+=1\n",
        "            currentArrival+=1\n",
        "            if serverIsBusy == False:\n",
        "                serverIsBusy=True\n",
        "            else:\n",
        "                queue+=1\n",
        "            generateReport(\"arrival\",currentArrival-1)\n",
        "        \n",
        "        if clock in completionTime:\n",
        "            custInQueue+=queue # calculating summation of customers in queue.\n",
        "            event+=1\n",
        "            if queue ==0:\n",
        "                serverIsBusy = False\n",
        "                generateReport(\"completion\",inServer-1)  \n",
        "                break\n",
        "\n",
        "            else:\n",
        "                queue-=1\n",
        "                generateReport(\"completion\",inServer-1)  \n",
        "                inServer +=1\n",
        "\n",
        "        clock+=1\n",
        "\n",
        "    timeAvgNumInSys = (custInQueue+(event-1))/event\n",
        "    avgTtlTimeInSys = (sum(completionTime)-sum(arrivalTime))/len(arrivalTime)\n",
        "    print(\"\\nSimulation End\") if queue != 11 else print(\"Error: Queue is full\") \n",
        "    print(\"a) The Time-Average number in the sysytem: \"+str(timeAvgNumInSys))\n",
        "    print(\"b) The Average total time in the system: \"+str(avgTtlTimeInSys))"
      ],
      "execution_count": 39,
      "outputs": []
    },
    {
      "cell_type": "markdown",
      "metadata": {
        "id": "luwv49Em93zh"
      },
      "source": [
        "# Report Generation"
      ]
    },
    {
      "cell_type": "code",
      "metadata": {
        "id": "n3JoZJQN97rq"
      },
      "source": [
        "def generateReport(status,i):\n",
        "    global event,clock,arrivalTime,completionTime,queue,serverIsBusy\n",
        "    if status==\"arrival\":\n",
        "        print(str(clock)+\" \\t \"+str(event)+\" \\t \"+str(status)+\" \\t \"+str(i+1)+\" \\t \"+str(arrivalTime[i])+\"\\t\"+\"--\"+\" \\t \"+str(queue)+\" \\t\\t\\t \"+str(\"Busy\" if serverIsBusy else \"Idle\"))\n",
        "\n",
        "    else:\n",
        "        print(str(clock)+\" \\t \"+str(event)+\" \\t \"+str(status)+\" \\t \"+str(i+1)+\" \\t \"+\"--\\t\"+str(completionTime[i])+\" \\t \"+str(queue)+\" \\t\\t\\t \"+str(\"Busy\" if serverIsBusy else \"Idle\"))\n",
        "\n",
        "    # Clock Event Status i ti Ci QueuePopulation state\n",
        "\n",
        "    pass"
      ],
      "execution_count": 36,
      "outputs": []
    },
    {
      "cell_type": "markdown",
      "metadata": {
        "id": "cvnWryL9WYhv"
      },
      "source": [
        "## Main Execution"
      ]
    },
    {
      "cell_type": "code",
      "metadata": {
        "id": "QRehhhVORmmW",
        "colab": {
          "base_uri": "https://localhost:8080/"
        },
        "outputId": "498d67e4-e9be-40e8-efa8-0c2947a197a3"
      },
      "source": [
        "if __name__ == \"__main__\":\n",
        "    arrivalTime=[]                  #\n",
        "    serviceTime=[]                  #\n",
        "    serverIsBusy = False            #   GLOBAL VARIABLES\n",
        "    waitingTime=[]                  #\n",
        "    completionTime=[]               #\n",
        "    Calculations()\n",
        "\n",
        "    clock = 0\n",
        "    queue = 0 #count of waiting entities\n",
        "    event = 0\n",
        "\n",
        "    custInQueue = 0 # ,                                                         part a                                      \n",
        "    timeAvgNumInSys = 0 # (custInQueue + event -1)/event                        part a\n",
        "    avgTtlTimeInSys = 0 #  sum(Ci-Ti)/num                                       part b\n",
        "\n",
        "\n",
        "    simulateSingleServerQueuingSystem()\n",
        "\n",
        "    # ====================== Simulation End ===================="
      ],
      "execution_count": 40,
      "outputs": [
        {
          "output_type": "stream",
          "text": [
            "Clock \t Event \t Status \t i \t ti \t Ci \tQPopulation \t\t State\n",
            "0 \t 0 \t Start \t\t -- \t --\t-- \t 0 \t\t\t Idle\n",
            "1 \t 1 \t arrival \t 1 \t 1\t-- \t 0 \t\t\t Busy\n",
            "6 \t 2 \t arrival \t 2 \t 6\t-- \t 1 \t\t\t Busy\n",
            "9 \t 3 \t arrival \t 3 \t 9\t-- \t 2 \t\t\t Busy\n",
            "9 \t 4 \t completion \t 1 \t --\t9 \t 1 \t\t\t Busy\n",
            "12 \t 5 \t arrival \t 4 \t 12\t-- \t 2 \t\t\t Busy\n",
            "13 \t 6 \t arrival \t 5 \t 13\t-- \t 3 \t\t\t Busy\n",
            "16 \t 7 \t completion \t 2 \t --\t16 \t 2 \t\t\t Busy\n",
            "17 \t 8 \t arrival \t 6 \t 17\t-- \t 3 \t\t\t Busy\n",
            "21 \t 9 \t arrival \t 7 \t 21\t-- \t 4 \t\t\t Busy\n",
            "23 \t 10 \t arrival \t 8 \t 23\t-- \t 5 \t\t\t Busy\n",
            "23 \t 11 \t completion \t 3 \t --\t23 \t 4 \t\t\t Busy\n",
            "28 \t 12 \t arrival \t 9 \t 28\t-- \t 5 \t\t\t Busy\n",
            "32 \t 13 \t arrival \t 10 \t 32\t-- \t 6 \t\t\t Busy\n",
            "33 \t 14 \t completion \t 4 \t --\t33 \t 5 \t\t\t Busy\n",
            "43 \t 15 \t completion \t 5 \t --\t43 \t 4 \t\t\t Busy\n",
            "49 \t 16 \t completion \t 6 \t --\t49 \t 3 \t\t\t Busy\n",
            "56 \t 17 \t completion \t 7 \t --\t56 \t 2 \t\t\t Busy\n",
            "64 \t 18 \t completion \t 8 \t --\t64 \t 1 \t\t\t Busy\n",
            "73 \t 19 \t completion \t 9 \t --\t73 \t 0 \t\t\t Busy\n",
            "82 \t 20 \t completion \t 10 \t --\t82 \t 0 \t\t\t Idle\n",
            "\n",
            "Simulation End\n",
            "a) The Time-Average number in the sysytem: 3.6\n",
            "b) The Average total time in the system: 28.6\n"
          ],
          "name": "stdout"
        }
      ]
    },
    {
      "cell_type": "code",
      "metadata": {
        "id": "XK1hXY3Im3pc"
      },
      "source": [
        ""
      ],
      "execution_count": 37,
      "outputs": []
    }
  ]
}